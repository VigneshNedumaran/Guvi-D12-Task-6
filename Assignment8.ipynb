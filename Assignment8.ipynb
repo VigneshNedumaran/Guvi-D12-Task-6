{
  "cells": [
    {
      "cell_type": "markdown",
      "metadata": {
        "id": "w_ROfUoTmIzs"
      },
      "source": [
        "# Assignment8"
      ]
    },
    {
      "cell_type": "code",
      "execution_count": 2,
      "metadata": {
        "id": "s-mA5WpjmIzx"
      },
      "outputs": [],
      "source": [
        "import pandas as pd\n",
        "import matplotlib.pyplot as plt\n",
        "import numpy as np\n",
        "from sklearn import linear_model"
      ]
    },
    {
      "cell_type": "markdown",
      "metadata": {
        "id": "byVdECipmIzz"
      },
      "source": [
        "# How Much is Your Car Worth?\n",
        "\n",
        "Data about the retail price of 2005 General Motors cars can be found in `car_data.csv`.\n",
        "\n",
        "The columns are:\n",
        "\n",
        "1. Price: suggested retail price of the used 2005 GM car in excellent condition.\n",
        "2. Mileage: number of miles the car has been driven\n",
        "3. Make: manufacturer of the car such as Saturn, Pontiac, and Chevrolet\n",
        "4. Model: specific models for each car manufacturer such as Ion, Vibe, Cavalier\n",
        "5. Trim (of car): specific type of car model such as SE Sedan 4D, Quad Coupe 2D          \n",
        "6. Type: body type such as sedan, coupe, etc.      \n",
        "7. Cylinder: number of cylinders in the engine        \n",
        "8. Liter: a more specific measure of engine size     \n",
        "9. Doors: number of doors           \n",
        "10. Cruise: indicator variable representing whether the car has cruise control (1 = cruise)\n",
        "11. Sound: indicator variable representing whether the car has upgraded speakers (1 = upgraded)\n",
        "12. Leather: indicator variable representing whether the car has leather seats (1 = leather)\n",
        "\n",
        "## Tasks, Part 1\n",
        "\n",
        "1. Find the linear regression equation for mileage vs price.\n",
        "2. Chart the original data and the equation on the chart.\n",
        "3. Find the equation's $R^2$ score (use the `.score` method) to determine whether the\n",
        "equation is a good fit for this data. (0.8 and greater is considered a strong correlation.)\n",
        "\n",
        "## Tasks, Part 2\n",
        "\n",
        "1. Use mileage, cylinders, liters, doors, cruise, sound, and leather to find the linear regression equation.\n",
        "2. Find the equation's $R^2$ score (use the `.score` method) to determine whether the\n",
        "equation is a good fit for this data. (0.8 and greater is considered a strong correlation.)\n",
        "3. Find the combination of the factors that is the best predictor for price.\n",
        "\n",
        "## Tasks, Hard Mode\n",
        "\n",
        "1. Research dummy variables in scikit-learn to see how to use the make, model, and body type.\n",
        "2. Find the best combination of factors to predict price."
      ]
    },
    {
      "cell_type": "code",
      "execution_count": 17,
      "metadata": {
        "id": "WdWIQsCWmIz2"
      },
      "outputs": [],
      "source": [
        "df = pd.read_csv(\"car_data.csv\")"
      ]
    },
    {
      "cell_type": "markdown",
      "metadata": {
        "id": "KGDPsi85mIz3"
      },
      "source": [
        "# Part 1"
      ]
    },
    {
      "cell_type": "code",
      "execution_count": 18,
      "metadata": {
        "colab": {
          "base_uri": "https://localhost:8080/",
          "height": 206
        },
        "id": "WlNWGXkfmIz4",
        "outputId": "9b6a54e1-50e1-4cae-b7d6-c6a5e73b030c"
      },
      "outputs": [
        {
          "output_type": "execute_result",
          "data": {
            "text/html": [
              "\n",
              "  <div id=\"df-2ac4404f-5d85-47bb-bf31-9063d3a3ad65\">\n",
              "    <div class=\"colab-df-container\">\n",
              "      <div>\n",
              "<style scoped>\n",
              "    .dataframe tbody tr th:only-of-type {\n",
              "        vertical-align: middle;\n",
              "    }\n",
              "\n",
              "    .dataframe tbody tr th {\n",
              "        vertical-align: top;\n",
              "    }\n",
              "\n",
              "    .dataframe thead th {\n",
              "        text-align: right;\n",
              "    }\n",
              "</style>\n",
              "<table border=\"1\" class=\"dataframe\">\n",
              "  <thead>\n",
              "    <tr style=\"text-align: right;\">\n",
              "      <th></th>\n",
              "      <th>Price</th>\n",
              "      <th>Mileage</th>\n",
              "      <th>Make</th>\n",
              "      <th>Model</th>\n",
              "      <th>Trim</th>\n",
              "      <th>Type</th>\n",
              "      <th>Cylinder</th>\n",
              "      <th>Liter</th>\n",
              "      <th>Doors</th>\n",
              "      <th>Cruise</th>\n",
              "      <th>Sound</th>\n",
              "      <th>Leather</th>\n",
              "    </tr>\n",
              "  </thead>\n",
              "  <tbody>\n",
              "    <tr>\n",
              "      <th>0</th>\n",
              "      <td>17314.103129</td>\n",
              "      <td>8221</td>\n",
              "      <td>Buick</td>\n",
              "      <td>Century</td>\n",
              "      <td>Sedan 4D</td>\n",
              "      <td>Sedan</td>\n",
              "      <td>6</td>\n",
              "      <td>3.1</td>\n",
              "      <td>4</td>\n",
              "      <td>1</td>\n",
              "      <td>1</td>\n",
              "      <td>1</td>\n",
              "    </tr>\n",
              "    <tr>\n",
              "      <th>1</th>\n",
              "      <td>17542.036083</td>\n",
              "      <td>9135</td>\n",
              "      <td>Buick</td>\n",
              "      <td>Century</td>\n",
              "      <td>Sedan 4D</td>\n",
              "      <td>Sedan</td>\n",
              "      <td>6</td>\n",
              "      <td>3.1</td>\n",
              "      <td>4</td>\n",
              "      <td>1</td>\n",
              "      <td>1</td>\n",
              "      <td>0</td>\n",
              "    </tr>\n",
              "    <tr>\n",
              "      <th>2</th>\n",
              "      <td>16218.847862</td>\n",
              "      <td>13196</td>\n",
              "      <td>Buick</td>\n",
              "      <td>Century</td>\n",
              "      <td>Sedan 4D</td>\n",
              "      <td>Sedan</td>\n",
              "      <td>6</td>\n",
              "      <td>3.1</td>\n",
              "      <td>4</td>\n",
              "      <td>1</td>\n",
              "      <td>1</td>\n",
              "      <td>0</td>\n",
              "    </tr>\n",
              "    <tr>\n",
              "      <th>3</th>\n",
              "      <td>16336.913140</td>\n",
              "      <td>16342</td>\n",
              "      <td>Buick</td>\n",
              "      <td>Century</td>\n",
              "      <td>Sedan 4D</td>\n",
              "      <td>Sedan</td>\n",
              "      <td>6</td>\n",
              "      <td>3.1</td>\n",
              "      <td>4</td>\n",
              "      <td>1</td>\n",
              "      <td>0</td>\n",
              "      <td>0</td>\n",
              "    </tr>\n",
              "    <tr>\n",
              "      <th>4</th>\n",
              "      <td>16339.170324</td>\n",
              "      <td>19832</td>\n",
              "      <td>Buick</td>\n",
              "      <td>Century</td>\n",
              "      <td>Sedan 4D</td>\n",
              "      <td>Sedan</td>\n",
              "      <td>6</td>\n",
              "      <td>3.1</td>\n",
              "      <td>4</td>\n",
              "      <td>1</td>\n",
              "      <td>0</td>\n",
              "      <td>1</td>\n",
              "    </tr>\n",
              "  </tbody>\n",
              "</table>\n",
              "</div>\n",
              "      <button class=\"colab-df-convert\" onclick=\"convertToInteractive('df-2ac4404f-5d85-47bb-bf31-9063d3a3ad65')\"\n",
              "              title=\"Convert this dataframe to an interactive table.\"\n",
              "              style=\"display:none;\">\n",
              "        \n",
              "  <svg xmlns=\"http://www.w3.org/2000/svg\" height=\"24px\"viewBox=\"0 0 24 24\"\n",
              "       width=\"24px\">\n",
              "    <path d=\"M0 0h24v24H0V0z\" fill=\"none\"/>\n",
              "    <path d=\"M18.56 5.44l.94 2.06.94-2.06 2.06-.94-2.06-.94-.94-2.06-.94 2.06-2.06.94zm-11 1L8.5 8.5l.94-2.06 2.06-.94-2.06-.94L8.5 2.5l-.94 2.06-2.06.94zm10 10l.94 2.06.94-2.06 2.06-.94-2.06-.94-.94-2.06-.94 2.06-2.06.94z\"/><path d=\"M17.41 7.96l-1.37-1.37c-.4-.4-.92-.59-1.43-.59-.52 0-1.04.2-1.43.59L10.3 9.45l-7.72 7.72c-.78.78-.78 2.05 0 2.83L4 21.41c.39.39.9.59 1.41.59.51 0 1.02-.2 1.41-.59l7.78-7.78 2.81-2.81c.8-.78.8-2.07 0-2.86zM5.41 20L4 18.59l7.72-7.72 1.47 1.35L5.41 20z\"/>\n",
              "  </svg>\n",
              "      </button>\n",
              "      \n",
              "  <style>\n",
              "    .colab-df-container {\n",
              "      display:flex;\n",
              "      flex-wrap:wrap;\n",
              "      gap: 12px;\n",
              "    }\n",
              "\n",
              "    .colab-df-convert {\n",
              "      background-color: #E8F0FE;\n",
              "      border: none;\n",
              "      border-radius: 50%;\n",
              "      cursor: pointer;\n",
              "      display: none;\n",
              "      fill: #1967D2;\n",
              "      height: 32px;\n",
              "      padding: 0 0 0 0;\n",
              "      width: 32px;\n",
              "    }\n",
              "\n",
              "    .colab-df-convert:hover {\n",
              "      background-color: #E2EBFA;\n",
              "      box-shadow: 0px 1px 2px rgba(60, 64, 67, 0.3), 0px 1px 3px 1px rgba(60, 64, 67, 0.15);\n",
              "      fill: #174EA6;\n",
              "    }\n",
              "\n",
              "    [theme=dark] .colab-df-convert {\n",
              "      background-color: #3B4455;\n",
              "      fill: #D2E3FC;\n",
              "    }\n",
              "\n",
              "    [theme=dark] .colab-df-convert:hover {\n",
              "      background-color: #434B5C;\n",
              "      box-shadow: 0px 1px 3px 1px rgba(0, 0, 0, 0.15);\n",
              "      filter: drop-shadow(0px 1px 2px rgba(0, 0, 0, 0.3));\n",
              "      fill: #FFFFFF;\n",
              "    }\n",
              "  </style>\n",
              "\n",
              "      <script>\n",
              "        const buttonEl =\n",
              "          document.querySelector('#df-2ac4404f-5d85-47bb-bf31-9063d3a3ad65 button.colab-df-convert');\n",
              "        buttonEl.style.display =\n",
              "          google.colab.kernel.accessAllowed ? 'block' : 'none';\n",
              "\n",
              "        async function convertToInteractive(key) {\n",
              "          const element = document.querySelector('#df-2ac4404f-5d85-47bb-bf31-9063d3a3ad65');\n",
              "          const dataTable =\n",
              "            await google.colab.kernel.invokeFunction('convertToInteractive',\n",
              "                                                     [key], {});\n",
              "          if (!dataTable) return;\n",
              "\n",
              "          const docLinkHtml = 'Like what you see? Visit the ' +\n",
              "            '<a target=\"_blank\" href=https://colab.research.google.com/notebooks/data_table.ipynb>data table notebook</a>'\n",
              "            + ' to learn more about interactive tables.';\n",
              "          element.innerHTML = '';\n",
              "          dataTable['output_type'] = 'display_data';\n",
              "          await google.colab.output.renderOutput(dataTable, element);\n",
              "          const docLink = document.createElement('div');\n",
              "          docLink.innerHTML = docLinkHtml;\n",
              "          element.appendChild(docLink);\n",
              "        }\n",
              "      </script>\n",
              "    </div>\n",
              "  </div>\n",
              "  "
            ],
            "text/plain": [
              "          Price  Mileage   Make    Model  ... Doors Cruise  Sound  Leather\n",
              "0  17314.103129     8221  Buick  Century  ...     4      1      1        1\n",
              "1  17542.036083     9135  Buick  Century  ...     4      1      1        0\n",
              "2  16218.847862    13196  Buick  Century  ...     4      1      1        0\n",
              "3  16336.913140    16342  Buick  Century  ...     4      1      0        0\n",
              "4  16339.170324    19832  Buick  Century  ...     4      1      0        1\n",
              "\n",
              "[5 rows x 12 columns]"
            ]
          },
          "metadata": {},
          "execution_count": 18
        }
      ],
      "source": [
        "df.head()"
      ]
    },
    {
      "cell_type": "code",
      "execution_count": 19,
      "metadata": {
        "colab": {
          "base_uri": "https://localhost:8080/"
        },
        "id": "a-oZZ1lBmIz6",
        "outputId": "7707eb76-0c0c-4beb-e505-0f1c72f58409"
      },
      "outputs": [
        {
          "output_type": "execute_result",
          "data": {
            "text/plain": [
              "(804, 12)"
            ]
          },
          "metadata": {},
          "execution_count": 19
        }
      ],
      "source": [
        "df.shape"
      ]
    },
    {
      "cell_type": "code",
      "execution_count": 20,
      "metadata": {
        "colab": {
          "base_uri": "https://localhost:8080/"
        },
        "id": "AdYMOQOzmIz9",
        "outputId": "7a19fb12-c9ed-44ee-e04b-3a53b62ff43f"
      },
      "outputs": [
        {
          "output_type": "execute_result",
          "data": {
            "text/plain": [
              "Price       0\n",
              "Mileage     0\n",
              "Make        0\n",
              "Model       0\n",
              "Trim        0\n",
              "Type        0\n",
              "Cylinder    0\n",
              "Liter       0\n",
              "Doors       0\n",
              "Cruise      0\n",
              "Sound       0\n",
              "Leather     0\n",
              "dtype: int64"
            ]
          },
          "metadata": {},
          "execution_count": 20
        }
      ],
      "source": [
        "df.isnull().sum()"
      ]
    },
    {
      "cell_type": "code",
      "execution_count": 21,
      "metadata": {
        "id": "mXovX0I_mIz_"
      },
      "outputs": [],
      "source": [
        "x = df[['Mileage']]\n",
        "y = df[['Price']]"
      ]
    },
    {
      "cell_type": "code",
      "execution_count": 22,
      "metadata": {
        "colab": {
          "base_uri": "https://localhost:8080/"
        },
        "id": "j-Nzt3-rmI0A",
        "outputId": "9bbe353d-74c0-42b7-8baa-850369e139b0"
      },
      "outputs": [
        {
          "output_type": "stream",
          "name": "stdout",
          "text": [
            "intercept: [24764.55900606]\n",
            "coefficients: [[-0.1725205]]\n",
            "r-squared: 0.02046344732348926\n"
          ]
        }
      ],
      "source": [
        "linreg = linear_model.LinearRegression()\n",
        "linreg.fit(x, y)\n",
        "\n",
        "print('intercept:', linreg.intercept_)\n",
        "print('coefficients:', linreg.coef_)\n",
        "print('r-squared:', linreg.score(x, y))"
      ]
    },
    {
      "cell_type": "code",
      "execution_count": 23,
      "metadata": {
        "colab": {
          "base_uri": "https://localhost:8080/",
          "height": 312
        },
        "id": "d-MBiEsAmI0C",
        "outputId": "6ee4c164-f5d2-454a-9188-a1fe4d2df47e"
      },
      "outputs": [
        {
          "output_type": "execute_result",
          "data": {
            "text/plain": [
              "Text(0.5, 1.0, 'Mileage vs Price')"
            ]
          },
          "metadata": {},
          "execution_count": 23
        },
        {
          "output_type": "display_data",
          "data": {
            "image/png": "[encoded data removed]",
            "text/plain": [
              "<Figure size 432x288 with 1 Axes>"
            ]
          },
          "metadata": {
            "needs_background": "light"
          }
        }
      ],
      "source": [
        "plt.scatter(x, y, color='y')\n",
        "plt.plot(x, linreg.predict(x))\n",
        "plt.xlabel('Mileage')\n",
        "plt.ylabel('Price')\n",
        "plt.title('Mileage vs Price')"
      ]
    },
    {
      "cell_type": "code",
      "execution_count": 24,
      "metadata": {
        "colab": {
          "base_uri": "https://localhost:8080/"
        },
        "id": "IhMm2NfZmI0D",
        "outputId": "8510397a-8647-4a24-c531-ff3ff02b108d"
      },
      "outputs": [
        {
          "output_type": "stream",
          "name": "stdout",
          "text": [
            "r-squared:  0.02046344732348926\n"
          ]
        }
      ],
      "source": [
        "print('r-squared: ', linreg.score(x, y))"
      ]
    },
    {
      "cell_type": "markdown",
      "metadata": {
        "id": "pZB8IDidmI0E"
      },
      "source": [
        "# Part 2"
      ]
    },
    {
      "cell_type": "code",
      "execution_count": 25,
      "metadata": {
        "id": "644DWADbmI0F"
      },
      "outputs": [],
      "source": [
        "feature = ['Mileage', 'Cylinder', 'Liter', 'Doors', 'Cruise', 'Sound', 'Leather']\n",
        "x = df[feature]\n",
        "y = df[['Price']]"
      ]
    },
    {
      "cell_type": "code",
      "execution_count": 26,
      "metadata": {
        "colab": {
          "base_uri": "https://localhost:8080/"
        },
        "id": "mbZc7cxqmI0F",
        "outputId": "1f971d6d-5a4e-46dd-eebe-6d2cdd54a80f"
      },
      "outputs": [
        {
          "output_type": "stream",
          "name": "stdout",
          "text": [
            "intercept: [6758.7551436]\n",
            "coefficients: [[-1.69747832e-01  3.79237893e+03 -7.87220732e+02 -1.54274585e+03\n",
            "   6.28899715e+03 -1.99379528e+03  3.34936162e+03]]\n"
          ]
        }
      ],
      "source": [
        "linreg = linear_model.LinearRegression()\n",
        "linreg.fit(x, y)\n",
        "print('intercept:', linreg.intercept_)\n",
        "print('coefficients:', linreg.coef_)"
      ]
    },
    {
      "cell_type": "code",
      "execution_count": 27,
      "metadata": {
        "colab": {
          "base_uri": "https://localhost:8080/"
        },
        "id": "RBinQ0DAmI0G",
        "outputId": "0d2e74d1-f604-471c-b70a-b1759a2cd22c"
      },
      "outputs": [
        {
          "output_type": "stream",
          "name": "stdout",
          "text": [
            "r-squared:  0.446264353672838\n"
          ]
        }
      ],
      "source": [
        "print('r-squared: ', linreg.score(x, y))"
      ]
    },
    {
      "cell_type": "markdown",
      "source": [
        "## Hard Mode\n"
      ],
      "metadata": {
        "id": "iyv17GVtzVqB"
      }
    },
    {
      "cell_type": "code",
      "execution_count": 28,
      "metadata": {
        "colab": {
          "base_uri": "https://localhost:8080/"
        },
        "id": "WNvRVqdpmI0H",
        "outputId": "ba52cbbc-a894-4592-faa9-52c1f93b0c0d"
      },
      "outputs": [
        {
          "output_type": "execute_result",
          "data": {
            "text/plain": [
              "Price       1.000000\n",
              "Cylinder    0.569086\n",
              "Liter       0.558146\n",
              "Cruise      0.430851\n",
              "Leather     0.157197\n",
              "Sound      -0.124348\n",
              "Doors      -0.138750\n",
              "Mileage    -0.143051\n",
              "Name: Price, dtype: float64"
            ]
          },
          "metadata": {},
          "execution_count": 28
        }
      ],
      "source": [
        "df.corr()['Price'].sort_values(ascending=False)"
      ]
    },
    {
      "cell_type": "code",
      "source": [
        "df.plot.hist(subplots=True, layout=(8,8), figsize=(20, 20), bins=50)\n"
      ],
      "metadata": {
        "colab": {
          "base_uri": "https://localhost:8080/",
          "height": 1000
        },
        "id": "svGZYQft5ayO",
        "outputId": "54f8fe99-7e60-4e51-db83-df2179965289"
      },
      "execution_count": 38,
      "outputs": [
        {
          "output_type": "execute_result",
          "data": {
            "text/plain": [
              "array([[<matplotlib.axes._subplots.AxesSubplot object at 0x7fb52df3e790>,\n",
              "        <matplotlib.axes._subplots.AxesSubplot object at 0x7fb52dccb850>,\n",
              "        <matplotlib.axes._subplots.AxesSubplot object at 0x7fb52dd07910>,\n",
              "        <matplotlib.axes._subplots.AxesSubplot object at 0x7fb52dc8de90>,\n",
              "        <matplotlib.axes._subplots.AxesSubplot object at 0x7fb52dbd1250>,\n",
              "        <matplotlib.axes._subplots.AxesSubplot object at 0x7fb52dc055d0>,\n",
              "        <matplotlib.axes._subplots.AxesSubplot object at 0x7fb52dbbb9d0>,\n",
              "        <matplotlib.axes._subplots.AxesSubplot object at 0x7fb52db74c90>],\n",
              "       [<matplotlib.axes._subplots.AxesSubplot object at 0x7fb52db74cd0>,\n",
              "        <matplotlib.axes._subplots.AxesSubplot object at 0x7fb52db37190>,\n",
              "        <matplotlib.axes._subplots.AxesSubplot object at 0x7fb52daa4a90>,\n",
              "        <matplotlib.axes._subplots.AxesSubplot object at 0x7fb52da58f90>,\n",
              "        <matplotlib.axes._subplots.AxesSubplot object at 0x7fb52da194d0>,\n",
              "        <matplotlib.axes._subplots.AxesSubplot object at 0x7fb52d9d09d0>,\n",
              "        <matplotlib.axes._subplots.AxesSubplot object at 0x7fb52da06ed0>,\n",
              "        <matplotlib.axes._subplots.AxesSubplot object at 0x7fb52d9ca410>],\n",
              "       [<matplotlib.axes._subplots.AxesSubplot object at 0x7fb52d982910>,\n",
              "        <matplotlib.axes._subplots.AxesSubplot object at 0x7fb52d936e10>,\n",
              "        <matplotlib.axes._subplots.AxesSubplot object at 0x7fb52d8fa390>,\n",
              "        <matplotlib.axes._subplots.AxesSubplot object at 0x7fb52d8ad8d0>,\n",
              "        <matplotlib.axes._subplots.AxesSubplot object at 0x7fb52d864dd0>,\n",
              "        <matplotlib.axes._subplots.AxesSubplot object at 0x7fb52d827310>,\n",
              "        <matplotlib.axes._subplots.AxesSubplot object at 0x7fb52d7dc810>,\n",
              "        <matplotlib.axes._subplots.AxesSubplot object at 0x7fb52d793d10>],\n",
              "       [<matplotlib.axes._subplots.AxesSubplot object at 0x7fb52d755250>,\n",
              "        <matplotlib.axes._subplots.AxesSubplot object at 0x7fb52d78b750>,\n",
              "        <matplotlib.axes._subplots.AxesSubplot object at 0x7fb52d741c50>,\n",
              "        <matplotlib.axes._subplots.AxesSubplot object at 0x7fb52d703190>,\n",
              "        <matplotlib.axes._subplots.AxesSubplot object at 0x7fb52d6b9690>,\n",
              "        <matplotlib.axes._subplots.AxesSubplot object at 0x7fb52d66db90>,\n",
              "        <matplotlib.axes._subplots.AxesSubplot object at 0x7fb52d6320d0>,\n",
              "        <matplotlib.axes._subplots.AxesSubplot object at 0x7fb52d5ea5d0>],\n",
              "       [<matplotlib.axes._subplots.AxesSubplot object at 0x7fb52d5a0ad0>,\n",
              "        <matplotlib.axes._subplots.AxesSubplot object at 0x7fb52d5ccb10>,\n",
              "        <matplotlib.axes._subplots.AxesSubplot object at 0x7fb52d519510>,\n",
              "        <matplotlib.axes._subplots.AxesSubplot object at 0x7fb52d4d0a10>,\n",
              "        <matplotlib.axes._subplots.AxesSubplot object at 0x7fb52d505f10>,\n",
              "        <matplotlib.axes._subplots.AxesSubplot object at 0x7fb52d4c6450>,\n",
              "        <matplotlib.axes._subplots.AxesSubplot object at 0x7fb52d47c950>,\n",
              "        <matplotlib.axes._subplots.AxesSubplot object at 0x7fb52d434e50>],\n",
              "       [<matplotlib.axes._subplots.AxesSubplot object at 0x7fb52d3f6390>,\n",
              "        <matplotlib.axes._subplots.AxesSubplot object at 0x7fb52d3ad890>,\n",
              "        <matplotlib.axes._subplots.AxesSubplot object at 0x7fb52d360d90>,\n",
              "        <matplotlib.axes._subplots.AxesSubplot object at 0x7fb52d3242d0>,\n",
              "        <matplotlib.axes._subplots.AxesSubplot object at 0x7fb52d2db7d0>,\n",
              "        <matplotlib.axes._subplots.AxesSubplot object at 0x7fb52d291cd0>,\n",
              "        <matplotlib.axes._subplots.AxesSubplot object at 0x7fb52d255210>,\n",
              "        <matplotlib.axes._subplots.AxesSubplot object at 0x7fb52d28b710>],\n",
              "       [<matplotlib.axes._subplots.AxesSubplot object at 0x7fb52d243c10>,\n",
              "        <matplotlib.axes._subplots.AxesSubplot object at 0x7fb52d205150>,\n",
              "        <matplotlib.axes._subplots.AxesSubplot object at 0x7fb52d1b9650>,\n",
              "        <matplotlib.axes._subplots.AxesSubplot object at 0x7fb52d170b50>,\n",
              "        <matplotlib.axes._subplots.AxesSubplot object at 0x7fb52d11bb90>,\n",
              "        <matplotlib.axes._subplots.AxesSubplot object at 0x7fb52d0e9590>,\n",
              "        <matplotlib.axes._subplots.AxesSubplot object at 0x7fb52d09fa90>,\n",
              "        <matplotlib.axes._subplots.AxesSubplot object at 0x7fb52d054f90>],\n",
              "       [<matplotlib.axes._subplots.AxesSubplot object at 0x7fb52d0164d0>,\n",
              "        <matplotlib.axes._subplots.AxesSubplot object at 0x7fb52cfce9d0>,\n",
              "        <matplotlib.axes._subplots.AxesSubplot object at 0x7fb52d003ed0>,\n",
              "        <matplotlib.axes._subplots.AxesSubplot object at 0x7fb52cfcd5d0>,\n",
              "        <matplotlib.axes._subplots.AxesSubplot object at 0x7fb52cf838d0>,\n",
              "        <matplotlib.axes._subplots.AxesSubplot object at 0x7fb52cf3add0>,\n",
              "        <matplotlib.axes._subplots.AxesSubplot object at 0x7fb52cefd310>,\n",
              "        <matplotlib.axes._subplots.AxesSubplot object at 0x7fb52ceb3810>]],\n",
              "      dtype=object)"
            ]
          },
          "metadata": {},
          "execution_count": 38
        },
        {
          "output_type": "display_data",
          "data": {
            "image/png": "[encoded data removed]",
            "text/plain": [
              "<Figure size 1440x1440 with 64 Axes>"
            ]
          },
          "metadata": {
            "needs_background": "light"
          }
        }
      ]
    },
    {
      "cell_type": "markdown",
      "source": [
        ""
      ],
      "metadata": {
        "id": "8BtW9oi1yXdi"
      }
    },
    {
      "cell_type": "code",
      "source": [
        ""
      ],
      "metadata": {
        "id": "zfr9wUKhqlj1"
      },
      "execution_count": null,
      "outputs": []
    }
  ],
  "metadata": {
    "kernelspec": {
      "display_name": "Python 3 (ipykernel)",
      "language": "python",
      "name": "python3"
    },
    "language_info": {
      "codemirror_mode": {
        "name": "ipython",
        "version": 3
      },
      "file_extension": ".py",
      "mimetype": "text/x-python",
      "name": "python",
      "nbconvert_exporter": "python",
      "pygments_lexer": "ipython3",
      "version": "3.9.5"
    },
    "colab": {
      "name": "Assignment8.ipynb",
      "provenance": []
    }
  },
  "nbformat": 4,
  "nbformat_minor": 0
}